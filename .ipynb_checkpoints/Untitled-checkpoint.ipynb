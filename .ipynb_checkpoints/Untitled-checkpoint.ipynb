{
 "cells": [
  {
   "cell_type": "code",
   "execution_count": 123,
   "metadata": {},
   "outputs": [],
   "source": [
    "import os\n",
    "import shutil"
   ]
  },
  {
   "cell_type": "code",
   "execution_count": 124,
   "metadata": {},
   "outputs": [],
   "source": [
    "class FileSorter:\n",
    "    def __init__(self):\n",
    "        self.cwd = os.getcwd()\n",
    "        self.file_list = os.listdir()\n",
    "    \n",
    "    def generate_filetypes(self):\n",
    "        for entry in os.scandir(self.cwd):\n",
    "            if entry.is_file():\n",
    "                yield '.' + str(entry).split(\".\")[-1][:-2]\n",
    "        \n",
    "    def generate_folders(self, filetype):\n",
    "        if not os.path.exists(filetype):\n",
    "            folder_path = os.path.join(self.cwd, filetype[1:])\n",
    "            print(folder_path)\n",
    "            os.mkdir(filetype)\n",
    "                \n",
    "    def mass_move(self, filetype):        \n",
    "        for entry in os.scandir(self.cwd):\n",
    "            if entry.name.endswith(filetype) and entry.is_file():\n",
    "                source = os.path.join(self.cwd, entry.name)\n",
    "                destination = os.path.join(self.cwd, filetype, entry.name)\n",
    "                shutil.move(source, destination)\n",
    "                print(\"Moving : \", source, \" to \", destination)"
   ]
  },
  {
   "cell_type": "code",
   "execution_count": 125,
   "metadata": {},
   "outputs": [
    {
     "name": "stdout",
     "output_type": "stream",
     "text": [
      "D:\\Projects\\Python\\Auto File Packer\\txt\n",
      "Moving :  D:\\Projects\\Python\\Auto File Packer\\test.txt  to  D:\\Projects\\Python\\Auto File Packer\\.txt\\test.txt\n",
      "D:\\Projects\\Python\\Auto File Packer\\ipynb\n",
      "Moving :  D:\\Projects\\Python\\Auto File Packer\\Untitled.ipynb  to  D:\\Projects\\Python\\Auto File Packer\\.ipynb\\Untitled.ipynb\n"
     ]
    }
   ],
   "source": [
    "if __name__ == \"__main__\" :\n",
    "    filesorter = FileSorter()\n",
    "    for filetype in filesorter.generate_filetypes():\n",
    "        filesorter.generate_folders(filetype)\n",
    "        filesorter.mass_move(filetype)"
   ]
  },
  {
   "cell_type": "code",
   "execution_count": 121,
   "metadata": {
    "collapsed": true
   },
   "outputs": [
    {
     "data": {
      "text/plain": [
       "'23'"
      ]
     },
     "execution_count": 121,
     "metadata": {},
     "output_type": "execute_result"
    }
   ],
   "source": [
    "test = \"123\"\n",
    "test[1:]"
   ]
  },
  {
   "cell_type": "code",
   "execution_count": null,
   "metadata": {},
   "outputs": [],
   "source": []
  },
  {
   "cell_type": "code",
   "execution_count": null,
   "metadata": {},
   "outputs": [],
   "source": []
  }
 ],
 "metadata": {
  "kernelspec": {
   "display_name": "Python 3",
   "language": "python",
   "name": "python3"
  },
  "language_info": {
   "codemirror_mode": {
    "name": "ipython",
    "version": 3
   },
   "file_extension": ".py",
   "mimetype": "text/x-python",
   "name": "python",
   "nbconvert_exporter": "python",
   "pygments_lexer": "ipython3",
   "version": "3.7.3"
  }
 },
 "nbformat": 4,
 "nbformat_minor": 2
}
